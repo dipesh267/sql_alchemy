{
 "cells": [
  {
   "cell_type": "code",
   "execution_count": 1,
   "metadata": {},
   "outputs": [],
   "source": [
    "import os\n",
    "import pandas as pd\n",
    "\n",
    "# Imports the method used for connecting to DBs\n",
    "from sqlalchemy import create_engine, inspect\n",
    "\n",
    "# Imports the methods needed to abstract classes into tables\n",
    "from sqlalchemy.ext.declarative import declarative_base\n",
    "\n",
    "# Allow us to declare column types\n",
    "from sqlalchemy import Column, Integer, String, Float \n",
    "\n",
    "from sqlalchemy.orm import Session"
   ]
  },
  {
   "cell_type": "code",
   "execution_count": 2,
   "metadata": {},
   "outputs": [],
   "source": [
    "# Sets an object to utilize the default declarative base in SQL Alchemy\n",
    "Base = declarative_base()\n",
    "\n",
    "\n",
    "# Creates Classes which will serve as the anchor points for our Tables\n",
    "class Measurements(Base):\n",
    "    __tablename__ = 'measurements'\n",
    "    index = Column(Integer, primary_key=True)\n",
    "    station = Column(String(255))\n",
    "    date = Column(String(255))\n",
    "    precipitation = Column(Float)\n",
    "    tobs = Column(Integer)\n",
    "    \n",
    "class Stations(Base):\n",
    "    __tablename__ = 'stations'\n",
    "    index = Column(Integer, primary_key=True)\n",
    "    station = Column(String(255))\n",
    "    name = Column(String(255))\n",
    "    latitude = Column(Float)\n",
    "    longitude = Column(Float)\n",
    "    elevation = Column(Float)"
   ]
  },
  {
   "cell_type": "code",
   "execution_count": 3,
   "metadata": {},
   "outputs": [],
   "source": [
    "# Create engine using the `demographics.sqlite` database file\n",
    "engine = create_engine(\"sqlite:///../Resources/hawaii.sqlite\")"
   ]
  },
  {
   "cell_type": "code",
   "execution_count": 4,
   "metadata": {},
   "outputs": [],
   "source": [
    "#create a session to connect to database to query and such\n",
    "session = Session(bind=engine)"
   ]
  },
  {
   "cell_type": "code",
   "execution_count": 5,
   "metadata": {},
   "outputs": [
    {
     "name": "stdout",
     "output_type": "stream",
     "text": [
      "2685\n"
     ]
    }
   ],
   "source": [
    "### BEGIN SOLUTION\n",
    "query = (session\n",
    "            .query(Measurements)\n",
    "            .filter(Measurements.station == 'USC00519397')\n",
    "            .count())\n",
    "print(query)"
   ]
  },
  {
   "cell_type": "code",
   "execution_count": 6,
   "metadata": {},
   "outputs": [
    {
     "name": "stdout",
     "output_type": "stream",
     "text": [
      "10 USC00519397 2010-01-12 0.0 61\n",
      "11 USC00519397 2010-01-14 0.0 66\n",
      "12 USC00519397 2010-01-15 0.0 65\n",
      "13 USC00519397 2010-01-16 0.0 68\n",
      "14 USC00519397 2010-01-17 0.0 64\n",
      "15 USC00519397 2010-01-18 0.0 72\n",
      "16 USC00519397 2010-01-19 0.0 66\n",
      "2697 USC00513117 2010-01-12 0.0 64\n",
      "2698 USC00513117 2010-01-13 0.0 64\n",
      "2699 USC00513117 2010-01-14 0.0 65\n",
      "2700 USC00513117 2010-01-15 0.0 69\n",
      "2701 USC00513117 2010-01-16 0.0 71\n",
      "2702 USC00513117 2010-01-17 0.0 69\n",
      "2703 USC00513117 2010-01-18 0.0 73\n",
      "2704 USC00513117 2010-01-19 0.0 73\n",
      "8011 USC00518838 2010-01-12 0.02 60\n",
      "8012 USC00518838 2010-01-13 0.02 68\n",
      "8013 USC00518838 2010-01-14 0.0 67\n",
      "8014 USC00518838 2010-01-19 0.0 70\n",
      "8355 USC00519523 2010-01-12 0.0 61\n",
      "8356 USC00519523 2010-01-13 0.0 60\n",
      "8357 USC00519523 2010-01-14 0.0 65\n",
      "8358 USC00519523 2010-01-15 0.0 68\n",
      "8359 USC00519523 2010-01-16 0.0 68\n",
      "8360 USC00519523 2010-01-17 0.0 70\n",
      "8361 USC00519523 2010-01-18 0.0 77\n",
      "8362 USC00519523 2010-01-19 0.0 74\n",
      "10927 USC00519281 2010-01-12 0.0 60\n",
      "10928 USC00519281 2010-01-13 0.0 61\n",
      "10929 USC00519281 2010-01-14 0.0 68\n",
      "10930 USC00519281 2010-01-15 0.0 64\n",
      "10931 USC00519281 2010-01-16 0.0 66\n",
      "10932 USC00519281 2010-01-17 0.0 67\n",
      "10933 USC00519281 2010-01-18 0.0 70\n",
      "10934 USC00519281 2010-01-19 0.0 67\n",
      "13699 USC00511918 2010-01-12 0.0 57\n",
      "13700 USC00511918 2010-01-13 0.0 57\n",
      "13701 USC00511918 2010-01-14 0.0 65\n",
      "13702 USC00511918 2010-01-15 0.0 56\n",
      "13703 USC00511918 2010-01-16 0.0 66\n",
      "13704 USC00511918 2010-01-18 0.0 73\n",
      "13705 USC00511918 2010-01-19 0.0 61\n",
      "15631 USC00516128 2010-01-12 0.0 68\n",
      "15632 USC00516128 2010-01-13 0.0 59\n",
      "15633 USC00516128 2010-01-14 0.0 69\n",
      "15634 USC00516128 2010-01-15 0.0 67\n",
      "15635 USC00516128 2010-01-16 0.0 65\n",
      "15636 USC00516128 2010-01-17 0.0 70\n",
      "15637 USC00516128 2010-01-18 0.0 76\n",
      "15638 USC00516128 2010-01-19 0.0 75\n"
     ]
    },
    {
     "data": {
      "text/plain": [
       "50"
      ]
     },
     "execution_count": 6,
     "metadata": {},
     "output_type": "execute_result"
    }
   ],
   "source": [
    "results = (session.query(Measurements)\n",
    "            .filter(Measurements.date > \"2010-01-11\")\n",
    "            .filter(Measurements.date < \"2010-01-20\")\n",
    "            .all()\n",
    "            )\n",
    "\n",
    "for result in results:\n",
    "    print(result.index, result.station, result.date, result.precipitation, result.tobs)\n",
    "len(results)"
   ]
  }
 ],
 "metadata": {
  "kernelspec": {
   "display_name": "Python 3",
   "language": "python",
   "name": "python3"
  },
  "language_info": {
   "codemirror_mode": {
    "name": "ipython",
    "version": 3
   },
   "file_extension": ".py",
   "mimetype": "text/x-python",
   "name": "python",
   "nbconvert_exporter": "python",
   "pygments_lexer": "ipython3",
   "version": "3.6.4"
  }
 },
 "nbformat": 4,
 "nbformat_minor": 2
}
