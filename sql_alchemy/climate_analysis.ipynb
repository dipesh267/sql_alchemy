{
 "cells": [
  {
   "cell_type": "code",
   "execution_count": 1,
   "metadata": {},
   "outputs": [],
   "source": [
    "import os\n",
    "import pandas as pd\n",
    "\n",
    "# Imports the method used for connecting to DBs\n",
    "from sqlalchemy import create_engine, inspect\n",
    "\n",
    "# Imports the methods needed to abstract classes into tables\n",
    "from sqlalchemy.ext.automap import automap_base\n",
    "from sqlalchemy import Column, Integer\n",
    "from sqlalchemy.orm import Session\n",
    "from sqlalchemy import func"
   ]
  },
  {
   "cell_type": "code",
   "execution_count": 2,
   "metadata": {},
   "outputs": [],
   "source": [
    "import matplotlib\n",
    "from matplotlib import style\n",
    "import matplotlib.pyplot as plt\n",
    "style.use('fivethirtyeight')"
   ]
  },
  {
   "cell_type": "code",
   "execution_count": 3,
   "metadata": {},
   "outputs": [],
   "source": [
    "import datetime as dt\n",
    "import numpy as np"
   ]
  },
  {
   "cell_type": "code",
   "execution_count": 4,
   "metadata": {},
   "outputs": [],
   "source": [
    "engine = create_engine(\"sqlite:///../Resources/hawaii.sqlite\")\n",
    "Base = automap_base()\n"
   ]
  },
  {
   "cell_type": "code",
   "execution_count": 5,
   "metadata": {},
   "outputs": [],
   "source": [
    "Base.prepare(engine, reflect=True)"
   ]
  },
  {
   "cell_type": "code",
   "execution_count": 6,
   "metadata": {},
   "outputs": [
    {
     "data": {
      "text/plain": [
       "['measurements', 'stations']"
      ]
     },
     "execution_count": 6,
     "metadata": {},
     "output_type": "execute_result"
    }
   ],
   "source": [
    "Base.classes.keys()"
   ]
  },
  {
   "cell_type": "code",
   "execution_count": 7,
   "metadata": {},
   "outputs": [
    {
     "name": "stdout",
     "output_type": "stream",
     "text": [
      "table names\n",
      "['measurements', 'stations']\n",
      "Table measurements\n",
      "index INTEGER\n",
      "station VARCHAR(255)\n",
      "date VARCHAR(255)\n",
      "precipitation FLOAT\n",
      "tobs INTEGER\n",
      "____________________\n",
      "Table stations\n",
      "index INTEGER\n",
      "station VARCHAR(255)\n",
      "name VARCHAR(255)\n",
      "latitude FLOAT\n",
      "longitude FLOAT\n",
      "elevation FLOAT\n"
     ]
    }
   ],
   "source": [
    "# Using the inspector to print the column names within the table and its types\n",
    "inspector = inspect(engine)\n",
    "\n",
    "print(\"table names\")\n",
    "print(inspector.get_table_names())\n",
    "columns = inspector.get_columns('measurements')\n",
    "\n",
    "print(\"Table measurements\")\n",
    "for column in columns:\n",
    "    print(column[\"name\"], column[\"type\"])\n",
    "\n",
    "print(\"____________________\")\n",
    "print(\"Table stations\")\n",
    "columns = inspector.get_columns('stations')\n",
    "for column in columns:\n",
    "    print(column[\"name\"], column[\"type\"])"
   ]
  },
  {
   "cell_type": "code",
   "execution_count": 8,
   "metadata": {},
   "outputs": [],
   "source": [
    "# Assign the measurements class to a variable called `Demographics`\n",
    "Measurements = Base.classes.measurements\n",
    "Stations = Base.classes.stations"
   ]
  },
  {
   "cell_type": "code",
   "execution_count": 9,
   "metadata": {},
   "outputs": [],
   "source": [
    "# Create a session\n",
    "session = Session(engine)"
   ]
  },
  {
   "cell_type": "code",
   "execution_count": 10,
   "metadata": {},
   "outputs": [
    {
     "name": "stdout",
     "output_type": "stream",
     "text": [
      "('USC00519397',)\n",
      "('USC00513117',)\n",
      "('USC00514830',)\n",
      "('USC00517948',)\n",
      "('USC00518838',)\n"
     ]
    }
   ],
   "source": [
    "rows = (session\n",
    "        .query(Stations.station)\n",
    "        .limit(5)\n",
    "        .all())\n",
    "for row in rows:\n",
    "    print(row)"
   ]
  },
  {
   "cell_type": "code",
   "execution_count": 11,
   "metadata": {},
   "outputs": [
    {
     "data": {
      "text/plain": [
       "[('2010-01-10', 0.0),\n",
       " ('2010-01-11', 0.01),\n",
       " ('2010-01-12', 0.0),\n",
       " ('2010-01-14', 0.0),\n",
       " ('2010-01-15', 0.0)]"
      ]
     },
     "execution_count": 11,
     "metadata": {},
     "output_type": "execute_result"
    }
   ],
   "source": [
    "results = (session.query(Measurements.date, Measurements.precipitation)\n",
    "            .filter(Measurements.date > \"2010-01-1\")\n",
    "            .filter(Measurements.date < \"2010-12-31\")\n",
    "            .limit(5)\n",
    "            .all()\n",
    "            )\n",
    "\n",
    "results"
   ]
  },
  {
   "cell_type": "markdown",
   "metadata": {},
   "source": [
    "## Precipitation Analysis"
   ]
  },
  {
   "cell_type": "code",
   "execution_count": 12,
   "metadata": {},
   "outputs": [
    {
     "name": "stdout",
     "output_type": "stream",
     "text": [
      "2018-07-28\n",
      "2017-07-28\n"
     ]
    }
   ],
   "source": [
    "today = dt.date.today()\n",
    "twelve_months_ago = dt.date.today() - dt.timedelta(days=365)\n",
    "print(today)\n",
    "print(twelve_months_ago)\n"
   ]
  },
  {
   "cell_type": "code",
   "execution_count": 13,
   "metadata": {},
   "outputs": [],
   "source": [
    "results = (session.query(Measurements.date, Measurements.precipitation)\n",
    "            .filter(Measurements.date > twelve_months_ago)\n",
    "            .filter(Measurements.date < today)\n",
    "            .order_by(Measurements.date)\n",
    "            .all()\n",
    "           )"
   ]
  },
  {
   "cell_type": "code",
   "execution_count": 14,
   "metadata": {},
   "outputs": [
    {
     "data": {
      "text/html": [
       "<div>\n",
       "<style scoped>\n",
       "    .dataframe tbody tr th:only-of-type {\n",
       "        vertical-align: middle;\n",
       "    }\n",
       "\n",
       "    .dataframe tbody tr th {\n",
       "        vertical-align: top;\n",
       "    }\n",
       "\n",
       "    .dataframe thead th {\n",
       "        text-align: right;\n",
       "    }\n",
       "</style>\n",
       "<table border=\"1\" class=\"dataframe\">\n",
       "  <thead>\n",
       "    <tr style=\"text-align: right;\">\n",
       "      <th></th>\n",
       "      <th>Dates</th>\n",
       "      <th>Precipitations</th>\n",
       "    </tr>\n",
       "  </thead>\n",
       "  <tbody>\n",
       "    <tr>\n",
       "      <th>0</th>\n",
       "      <td>2017-07-29</td>\n",
       "      <td>0.00</td>\n",
       "    </tr>\n",
       "    <tr>\n",
       "      <th>1</th>\n",
       "      <td>2017-07-29</td>\n",
       "      <td>0.06</td>\n",
       "    </tr>\n",
       "    <tr>\n",
       "      <th>2</th>\n",
       "      <td>2017-07-29</td>\n",
       "      <td>0.02</td>\n",
       "    </tr>\n",
       "    <tr>\n",
       "      <th>3</th>\n",
       "      <td>2017-07-29</td>\n",
       "      <td>0.00</td>\n",
       "    </tr>\n",
       "    <tr>\n",
       "      <th>4</th>\n",
       "      <td>2017-07-29</td>\n",
       "      <td>0.23</td>\n",
       "    </tr>\n",
       "  </tbody>\n",
       "</table>\n",
       "</div>"
      ],
      "text/plain": [
       "       Dates  Precipitations\n",
       "0 2017-07-29            0.00\n",
       "1 2017-07-29            0.06\n",
       "2 2017-07-29            0.02\n",
       "3 2017-07-29            0.00\n",
       "4 2017-07-29            0.23"
      ]
     },
     "execution_count": 14,
     "metadata": {},
     "output_type": "execute_result"
    }
   ],
   "source": [
    "df = pd.DataFrame(results,columns=['Dates','Precipitations'])\n",
    "#df.set_index('Dates',inplace=True)\n",
    "#df.index = pd.to_datetime(df.index)\n",
    "df.Dates = pd.to_datetime(df.Dates)\n",
    "df.head()"
   ]
  },
  {
   "cell_type": "code",
   "execution_count": 15,
   "metadata": {},
   "outputs": [
    {
     "data": {
      "image/png": "[encoded data removed]",
      "text/plain": [
       "<matplotlib.figure.Figure at 0x10a556400>"
      ]
     },
     "metadata": {},
     "output_type": "display_data"
    }
   ],
   "source": [
    "#plt.style.use('seaborn')\n",
    "plt.figure(figsize=(12,7))\n",
    "plt.plot(df[\"Dates\"], df[\"Precipitations\"], label='Precipitation')\n",
    "\n",
    "plt.xlabel('Dates')\n",
    "plt.ylabel('Precipitation')\n",
    "plt.title(\"Precipitation in a 12 month period\")\n",
    "plt.legend()\n",
    "plt.show()"
   ]
  },
  {
   "cell_type": "markdown",
   "metadata": {},
   "source": [
    "## Summary Staticstics"
   ]
  },
  {
   "cell_type": "code",
   "execution_count": 16,
   "metadata": {},
   "outputs": [
    {
     "data": {
      "text/html": [
       "<div>\n",
       "<style scoped>\n",
       "    .dataframe tbody tr th:only-of-type {\n",
       "        vertical-align: middle;\n",
       "    }\n",
       "\n",
       "    .dataframe tbody tr th {\n",
       "        vertical-align: top;\n",
       "    }\n",
       "\n",
       "    .dataframe thead th {\n",
       "        text-align: right;\n",
       "    }\n",
       "</style>\n",
       "<table border=\"1\" class=\"dataframe\">\n",
       "  <thead>\n",
       "    <tr style=\"text-align: right;\">\n",
       "      <th></th>\n",
       "      <th>Precipitations</th>\n",
       "    </tr>\n",
       "  </thead>\n",
       "  <tbody>\n",
       "    <tr>\n",
       "      <th>count</th>\n",
       "      <td>96.000000</td>\n",
       "    </tr>\n",
       "    <tr>\n",
       "      <th>mean</th>\n",
       "      <td>0.058750</td>\n",
       "    </tr>\n",
       "    <tr>\n",
       "      <th>std</th>\n",
       "      <td>0.117198</td>\n",
       "    </tr>\n",
       "    <tr>\n",
       "      <th>min</th>\n",
       "      <td>0.000000</td>\n",
       "    </tr>\n",
       "    <tr>\n",
       "      <th>25%</th>\n",
       "      <td>0.000000</td>\n",
       "    </tr>\n",
       "    <tr>\n",
       "      <th>50%</th>\n",
       "      <td>0.000000</td>\n",
       "    </tr>\n",
       "    <tr>\n",
       "      <th>75%</th>\n",
       "      <td>0.060000</td>\n",
       "    </tr>\n",
       "    <tr>\n",
       "      <th>max</th>\n",
       "      <td>0.560000</td>\n",
       "    </tr>\n",
       "  </tbody>\n",
       "</table>\n",
       "</div>"
      ],
      "text/plain": [
       "       Precipitations\n",
       "count       96.000000\n",
       "mean         0.058750\n",
       "std          0.117198\n",
       "min          0.000000\n",
       "25%          0.000000\n",
       "50%          0.000000\n",
       "75%          0.060000\n",
       "max          0.560000"
      ]
     },
     "execution_count": 16,
     "metadata": {},
     "output_type": "execute_result"
    }
   ],
   "source": [
    "df.describe()"
   ]
  },
  {
   "cell_type": "markdown",
   "metadata": {},
   "source": [
    "## Station Analysis"
   ]
  },
  {
   "cell_type": "markdown",
   "metadata": {},
   "source": [
    "### Total Stations "
   ]
  },
  {
   "cell_type": "code",
   "execution_count": 17,
   "metadata": {},
   "outputs": [
    {
     "name": "stdout",
     "output_type": "stream",
     "text": [
      "9\n"
     ]
    }
   ],
   "source": [
    "station_count = (session\n",
    "                .query(Measurements.station)\n",
    "                .group_by(Measurements.station)\n",
    "                .count()\n",
    "                )\n",
    "print(station_count)"
   ]
  },
  {
   "cell_type": "markdown",
   "metadata": {},
   "source": [
    "### Most Active Station"
   ]
  },
  {
   "cell_type": "code",
   "execution_count": 18,
   "metadata": {},
   "outputs": [
    {
     "name": "stdout",
     "output_type": "stream",
     "text": [
      "Highest Number of observations: ('USC00519281', 2772)\n",
      "\b\n",
      "Active Stations in Descending Order:\n",
      "('USC00519281', 2772)\n",
      "('USC00513117', 2696)\n",
      "('USC00519397', 2685)\n",
      "('USC00519523', 2572)\n",
      "('USC00516128', 2483)\n",
      "('USC00514830', 1937)\n",
      "('USC00511918', 1932)\n",
      "('USC00517948', 683)\n",
      "('USC00518838', 342)\n"
     ]
    }
   ],
   "source": [
    "active_stations = (session\n",
    "                 .query(Measurements.station, func.count(Measurements.station))\n",
    "                 .group_by(Measurements.station)\n",
    "                 .order_by(func.count(Measurements.station).desc())\n",
    "                 .all())\n",
    "\n",
    "print(\"Highest Number of observations: \" + str(active_stations[0]))\n",
    "print(\"\\b\")\n",
    "\n",
    "print(\"Active Stations in Descending Order:\")\n",
    "for station in active_stations:\n",
    "    print(station)"
   ]
  },
  {
   "cell_type": "markdown",
   "metadata": {},
   "source": [
    "### 12 Months of Temperature Observation Data"
   ]
  },
  {
   "cell_type": "code",
   "execution_count": 19,
   "metadata": {},
   "outputs": [
    {
     "name": "stdout",
     "output_type": "stream",
     "text": [
      "('2017-07-30', 'USC00519523', 84)\n"
     ]
    }
   ],
   "source": [
    "query_tobs = (session.query(Measurements.date, Measurements.station, Measurements.tobs)\n",
    "            .filter(Measurements.date > twelve_months_ago)\n",
    "            .filter(Measurements.date < today)\n",
    "            .order_by(Measurements.tobs.desc())\n",
    "            .all()\n",
    "            )\n",
    "\n",
    "print(query_tobs[0])"
   ]
  },
  {
   "cell_type": "code",
   "execution_count": 20,
   "metadata": {},
   "outputs": [
    {
     "data": {
      "text/html": [
       "<div>\n",
       "<style scoped>\n",
       "    .dataframe tbody tr th:only-of-type {\n",
       "        vertical-align: middle;\n",
       "    }\n",
       "\n",
       "    .dataframe tbody tr th {\n",
       "        vertical-align: top;\n",
       "    }\n",
       "\n",
       "    .dataframe thead th {\n",
       "        text-align: right;\n",
       "    }\n",
       "</style>\n",
       "<table border=\"1\" class=\"dataframe\">\n",
       "  <thead>\n",
       "    <tr style=\"text-align: right;\">\n",
       "      <th></th>\n",
       "      <th>Date</th>\n",
       "      <th>Stations</th>\n",
       "      <th>Tobs</th>\n",
       "    </tr>\n",
       "  </thead>\n",
       "  <tbody>\n",
       "    <tr>\n",
       "      <th>0</th>\n",
       "      <td>2017-07-30</td>\n",
       "      <td>USC00519523</td>\n",
       "      <td>84</td>\n",
       "    </tr>\n",
       "    <tr>\n",
       "      <th>1</th>\n",
       "      <td>2017-08-13</td>\n",
       "      <td>USC00519523</td>\n",
       "      <td>84</td>\n",
       "    </tr>\n",
       "    <tr>\n",
       "      <th>2</th>\n",
       "      <td>2017-07-29</td>\n",
       "      <td>USC00519523</td>\n",
       "      <td>83</td>\n",
       "    </tr>\n",
       "    <tr>\n",
       "      <th>3</th>\n",
       "      <td>2017-08-02</td>\n",
       "      <td>USC00519523</td>\n",
       "      <td>83</td>\n",
       "    </tr>\n",
       "    <tr>\n",
       "      <th>4</th>\n",
       "      <td>2017-08-06</td>\n",
       "      <td>USC00519523</td>\n",
       "      <td>83</td>\n",
       "    </tr>\n",
       "  </tbody>\n",
       "</table>\n",
       "</div>"
      ],
      "text/plain": [
       "        Date     Stations  Tobs\n",
       "0 2017-07-30  USC00519523    84\n",
       "1 2017-08-13  USC00519523    84\n",
       "2 2017-07-29  USC00519523    83\n",
       "3 2017-08-02  USC00519523    83\n",
       "4 2017-08-06  USC00519523    83"
      ]
     },
     "execution_count": 20,
     "metadata": {},
     "output_type": "execute_result"
    }
   ],
   "source": [
    "tobs_df = pd.DataFrame(query_tobs,columns=['Date','Stations','Tobs'])\n",
    "tobs_df.Date = pd.to_datetime(tobs_df.Date)\n",
    "tobs_df.head()\n"
   ]
  },
  {
   "cell_type": "code",
   "execution_count": 21,
   "metadata": {
    "scrolled": false
   },
   "outputs": [
    {
     "name": "stderr",
     "output_type": "stream",
     "text": [
      "No handles with labels found to put in legend.\n"
     ]
    },
    {
     "data": {
      "image/png": "[encoded data removed]",
      "text/plain": [
       "<matplotlib.figure.Figure at 0x106832160>"
      ]
     },
     "metadata": {},
     "output_type": "display_data"
    }
   ],
   "source": [
    "num_bins = 12\n",
    "plt.style.use('seaborn')\n",
    "plt.figure(figsize=(12,7))\n",
    "plt.hist(tobs_df[\"Tobs\"], num_bins, color = 'blue', edgecolor = 'black')\n",
    "\n",
    "plt.xlabel('Tobs')\n",
    "plt.ylabel('Frequency')\n",
    "plt.title(\"12 Month Temperature Observation\")\n",
    "plt.legend()\n",
    "plt.show()"
   ]
  },
  {
   "cell_type": "markdown",
   "metadata": {},
   "source": [
    "## Temperature Analysis"
   ]
  },
  {
   "cell_type": "code",
   "execution_count": 22,
   "metadata": {},
   "outputs": [],
   "source": [
    "def checkDate(date):\n",
    "    try:\n",
    "        date = dt.datetime.strptime(date,\"%Y-%m-%d\")\n",
    "        return date\n",
    "    except Exception as e:\n",
    "        print(e)\n",
    "        print(\"The Entry is not a valid date!!!!\")\n",
    "        print(\"Try again !\")\n",
    "        getDates()\n"
   ]
  },
  {
   "cell_type": "code",
   "execution_count": 23,
   "metadata": {},
   "outputs": [],
   "source": [
    "def getDates():\n",
    "    start_date = input(\"Enter the Start Date: YYYY-MM-DD \")\n",
    "    start_date = checkDate(start_date)\n",
    "    end_date = input(\"Enter the End Date: YYYY-MM-DD \")\n",
    "    end_date = checkDate(end_date)\n",
    "    \n",
    "    return{\"start_date\":start_date,\"end_date\":end_date}"
   ]
  },
  {
   "cell_type": "code",
   "execution_count": 24,
   "metadata": {},
   "outputs": [],
   "source": [
    "def calc_temps(begin, end):\n",
    "    query_tobs = (session.query(func.min(Measurements.tobs), func.max(Measurements.tobs), func.avg(Measurements.tobs))\n",
    "            .filter(Measurements.date > begin)\n",
    "            .filter(Measurements.date < end)\n",
    "            .all()\n",
    "            )\n",
    "    \n",
    "    print(\"Mininim for the date range is: \" + str(query_tobs[0][0]))\n",
    "    print(\"Maximum for the date range is: \" + str(query_tobs[0][1]))\n",
    "    print(\"Average for the date range is: \" + str(query_tobs[0][2]))\n",
    "    \n",
    "    plot_bar(query_tobs[0][2], query_tobs[0][1], query_tobs[0][0])\n",
    "    "
   ]
  },
  {
   "cell_type": "code",
   "execution_count": 25,
   "metadata": {},
   "outputs": [],
   "source": [
    "def getTempDesc():\n",
    "    dates = getDates()\n",
    "    begin_date = dates[\"start_date\"]\n",
    "    begin_date = f\"{begin_date:%Y-%m-%d}\"\n",
    "    \n",
    "    end_date = dates[\"end_date\"]\n",
    "    end_date = f\"{end_date:%Y-%m-%d}\"\n",
    "    \n",
    "    print(\"\\b\")\n",
    "    print(\"The Entered Year Range Data:\\b\")\n",
    "    print(\"\\b\")\n",
    "    print(\"Start date is :\" + begin_date)\n",
    "    print(\"End date is :\" + end_date)\n",
    "    print(\"\\b\")\n",
    "    print(\"\\b\")\n",
    "    calc_temps(begin_date, end_date)\n",
    "    print(\"\\b\")\n",
    "    \n",
    "    #get year range for 1 year before provided date\n",
    "    print(\"The Prior Year Data:\\b\")\n",
    "    prior_start_date = dates[\"start_date\"] - dt.timedelta(days=365)\n",
    "    prior_start_date = f\"{prior_start_date:%Y-%m-%d}\"\n",
    "    \n",
    "    prior_end_date = dates[\"start_date\"]\n",
    "    prior_end_date = f\"{prior_end_date:%Y-%m-%d}\"\n",
    "    \n",
    "    print(\"\\b\")\n",
    "    print(\"Start date for Prior year is :\" + prior_start_date)\n",
    "    print(\"End date for Prior year is:\" + prior_end_date)\n",
    "    print(\"\\b\")\n",
    "    \n",
    "    calc_temps(prior_start_date, prior_end_date)"
   ]
  },
  {
   "cell_type": "code",
   "execution_count": 28,
   "metadata": {},
   "outputs": [],
   "source": [
    "def plot_bar(avg, maximum, minimum):\n",
    "    x = (1)\n",
    "    y = avg\n",
    "    err = maximum - minimum\n",
    "\n",
    "    fig, ax = plt.subplots()\n",
    "\n",
    "    index = np.arange(1)\n",
    "    bar_width = 0.2\n",
    "\n",
    "    opacity = 0.4\n",
    "    error_config = {'ecolor': '0.3'}\n",
    "\n",
    "    rects1 = ax.bar(x, y, bar_width,\n",
    "                    alpha=opacity, color='b',\n",
    "                    yerr=err, error_kw=error_config,\n",
    "                    label='Average')\n",
    "\n",
    "    ax.set_xlabel('Range')\n",
    "    ax.set_ylabel('Average Temperature')\n",
    "    ax.set_title('Average Temperature for Year')\n",
    "    ax.set_xticks(index + bar_width / 2)\n",
    "    ax.legend()\n",
    "    fig.tight_layout()\n",
    "    plt.show()"
   ]
  },
  {
   "cell_type": "markdown",
   "metadata": {},
   "source": [
    "#### Temperature Report For Entered Date and Year Prior to that"
   ]
  },
  {
   "cell_type": "code",
   "execution_count": 29,
   "metadata": {},
   "outputs": [
    {
     "name": "stdout",
     "output_type": "stream",
     "text": [
      "Enter the Start Date: YYYY-MM-DD 2012-12-23\n",
      "Enter the End Date: YYYY-MM-DD 2013-12-23\n",
      "\b\n",
      "The Entered Year Range Data\n",
      "\b\n",
      "Start date is :2012-12-23\n",
      "End date is :2013-12-23\n",
      "\b\n",
      "\b\n",
      "Mininim for the date range is: 53\n",
      "Maximum for the date range is: 86\n",
      "Average for the date range is: 72.51462225832657\n"
     ]
    },
    {
     "data": {
      "image/png": "[encoded data removed]",
      "text/plain": [
       "<matplotlib.figure.Figure at 0x10e388da0>"
      ]
     },
     "metadata": {},
     "output_type": "display_data"
    },
    {
     "name": "stdout",
     "output_type": "stream",
     "text": [
      "\b\n",
      "The Prior Year Data:\b\n",
      "\b\n",
      "Start date for Prior year is :2011-12-24\n",
      "End date for Prior year is:2012-12-23\n",
      "\b\n",
      "Mininim for the date range is: 56\n",
      "Maximum for the date range is: 86\n",
      "Average for the date range is: 72.25385865150284\n"
     ]
    },
    {
     "data": {
      "image/png": "[encoded data removed]",
      "text/plain": [
       "<matplotlib.figure.Figure at 0x10e402a20>"
      ]
     },
     "metadata": {},
     "output_type": "display_data"
    }
   ],
   "source": [
    "getTempDesc()\n"
   ]
  },
  {
   "cell_type": "code",
   "execution_count": null,
   "metadata": {},
   "outputs": [],
   "source": []
  }
 ],
 "metadata": {
  "kernelspec": {
   "display_name": "Python 3",
   "language": "python",
   "name": "python3"
  },
  "language_info": {
   "codemirror_mode": {
    "name": "ipython",
    "version": 3
   },
   "file_extension": ".py",
   "mimetype": "text/x-python",
   "name": "python",
   "nbconvert_exporter": "python",
   "pygments_lexer": "ipython3",
   "version": "3.6.4"
  }
 },
 "nbformat": 4,
 "nbformat_minor": 2
}
