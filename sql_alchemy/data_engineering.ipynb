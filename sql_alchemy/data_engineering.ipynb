{
 "cells": [
  {
   "cell_type": "markdown",
   "metadata": {},
   "source": [
    "## Cleaning data and writing to new file"
   ]
  },
  {
   "cell_type": "code",
   "execution_count": 17,
   "metadata": {},
   "outputs": [],
   "source": [
    "import os\n",
    "import pandas as pd"
   ]
  },
  {
   "cell_type": "code",
   "execution_count": 18,
   "metadata": {},
   "outputs": [],
   "source": [
    "measurements_file = os.path.join('../Resources','hawaii_measurements.csv')\n",
    "stations_file = os.path.join('../Resources','hawaii_stations.csv')"
   ]
  },
  {
   "cell_type": "code",
   "execution_count": 19,
   "metadata": {},
   "outputs": [],
   "source": [
    "measurements_df = pd.read_csv(measurements_file, encoding='ISO-8859-1')\n",
    "stations_df = pd.read_csv(stations_file, encoding='ISO-8859-1')"
   ]
  },
  {
   "cell_type": "code",
   "execution_count": 20,
   "metadata": {},
   "outputs": [
    {
     "name": "stdout",
     "output_type": "stream",
     "text": [
      "       station        date  prcp  tobs\n",
      "0  USC00519397  2010-01-01  0.08    65\n",
      "1  USC00519397  2010-01-02  0.00    63\n",
      "2  USC00519397  2010-01-03  0.00    74\n",
      "3  USC00519397  2010-01-04  0.00    76\n",
      "4  USC00519397  2010-01-06   NaN    73\n",
      "       station                                    name  latitude  longitude  \\\n",
      "0  USC00519397                    WAIKIKI 717.2, HI US   21.2716  -157.8168   \n",
      "1  USC00513117                    KANEOHE 838.1, HI US   21.4234  -157.8015   \n",
      "2  USC00514830  KUALOA RANCH HEADQUARTERS 886.9, HI US   21.5213  -157.8374   \n",
      "3  USC00517948                       PEARL CITY, HI US   21.3934  -157.9751   \n",
      "4  USC00518838              UPPER WAHIAWA 874.3, HI US   21.4992  -158.0111   \n",
      "\n",
      "   elevation  \n",
      "0        3.0  \n",
      "1       14.6  \n",
      "2        7.0  \n",
      "3       11.9  \n",
      "4      306.6  \n"
     ]
    }
   ],
   "source": [
    "print(measurements_df.head())\n",
    "\n",
    "print(stations_df.head())"
   ]
  },
  {
   "cell_type": "code",
   "execution_count": 21,
   "metadata": {},
   "outputs": [
    {
     "name": "stdout",
     "output_type": "stream",
     "text": [
      "station    1447\n",
      "date       1447\n",
      "prcp          0\n",
      "tobs       1447\n",
      "dtype: int64\n",
      "station      0\n",
      "name         0\n",
      "latitude     0\n",
      "longitude    0\n",
      "elevation    0\n",
      "dtype: int64\n"
     ]
    }
   ],
   "source": [
    "#select all rows with NaN\n",
    "df1 = measurements_df[measurements_df.isnull().any(axis=1)]\n",
    "print(df1.count())\n",
    "\n",
    "df1 = stations_df[stations_df.isnull().any(axis=1)]\n",
    "print(df1.count())"
   ]
  },
  {
   "cell_type": "code",
   "execution_count": 22,
   "metadata": {},
   "outputs": [
    {
     "name": "stdout",
     "output_type": "stream",
     "text": [
      "station    0\n",
      "date       0\n",
      "prcp       0\n",
      "tobs       0\n",
      "dtype: int64\n"
     ]
    }
   ],
   "source": [
    "clean_measurements_df = measurements_df.dropna()\n",
    "\n",
    "df1 = clean_measurements_df[clean_measurements_df.isnull().any(axis=1)]\n",
    "print(df1.count())\n",
    "#no more NaN"
   ]
  },
  {
   "cell_type": "code",
   "execution_count": 23,
   "metadata": {},
   "outputs": [
    {
     "name": "stdout",
     "output_type": "stream",
     "text": [
      "       station        date  prcp  tobs\n",
      "0  USC00519397  2010-01-01  0.08    65\n",
      "1  USC00519397  2010-01-02  0.00    63\n",
      "2  USC00519397  2010-01-03  0.00    74\n",
      "3  USC00519397  2010-01-04  0.00    76\n",
      "5  USC00519397  2010-01-07  0.06    70\n",
      "       station                                    name  latitude  longitude  \\\n",
      "0  USC00519397                    WAIKIKI 717.2, HI US   21.2716  -157.8168   \n",
      "1  USC00513117                    KANEOHE 838.1, HI US   21.4234  -157.8015   \n",
      "2  USC00514830  KUALOA RANCH HEADQUARTERS 886.9, HI US   21.5213  -157.8374   \n",
      "3  USC00517948                       PEARL CITY, HI US   21.3934  -157.9751   \n",
      "4  USC00518838              UPPER WAHIAWA 874.3, HI US   21.4992  -158.0111   \n",
      "\n",
      "   elevation  \n",
      "0        3.0  \n",
      "1       14.6  \n",
      "2        7.0  \n",
      "3       11.9  \n",
      "4      306.6  \n"
     ]
    }
   ],
   "source": [
    "print(clean_measurements_df.head())\n",
    "\n",
    "print(stations_df.head())"
   ]
  },
  {
   "cell_type": "code",
   "execution_count": 24,
   "metadata": {},
   "outputs": [],
   "source": [
    "output_path = os.path.join('../Resources', 'clean_hawaii_measurements.csv')\n",
    "clean_measurements_df.to_csv(output_path, index=False, header=True)\n",
    "\n",
    "output_path = os.path.join('../Resources', 'clean_hawaii_stations.csv')\n",
    "stations_df.to_csv(output_path, index=False, header=True)"
   ]
  },
  {
   "cell_type": "code",
   "execution_count": null,
   "metadata": {},
   "outputs": [],
   "source": []
  }
 ],
 "metadata": {
  "kernelspec": {
   "display_name": "Python 3",
   "language": "python",
   "name": "python3"
  },
  "language_info": {
   "codemirror_mode": {
    "name": "ipython",
    "version": 3
   },
   "file_extension": ".py",
   "mimetype": "text/x-python",
   "name": "python",
   "nbconvert_exporter": "python",
   "pygments_lexer": "ipython3",
   "version": "3.6.4"
  }
 },
 "nbformat": 4,
 "nbformat_minor": 2
}
